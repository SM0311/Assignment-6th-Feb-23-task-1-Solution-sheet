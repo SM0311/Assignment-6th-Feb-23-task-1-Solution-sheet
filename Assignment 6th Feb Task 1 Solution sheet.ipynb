{
 "cells": [
  {
   "cell_type": "markdown",
   "id": "0864c53a-9def-4829-a4c2-6f1997a65744",
   "metadata": {},
   "source": [
    "Q1. Create a function which will take a list as an argument and return the product of all the numbers after creating a flat list.\n",
    "\n",
    "Use the below-given list as an argument for your function.\n",
    "\n",
    "list1 = [1,2,3,4, [44,55,66, True], False, (34,56,78,89,34), {1,2,3,3,2,1}, {1:34, \"key2\": [55, 67, 78, 89], 4: (45,\n",
    "22, 61, 34)}, [56, 'data science'], 'Machine Learning']\n",
    "\n",
    "Note: you must extract numeric keys and values of the dictionary also."
   ]
  },
  {
   "cell_type": "markdown",
   "id": "50eba7c4-4d59-456c-8cb1-8f22c9cd7154",
   "metadata": {},
   "source": [
    "Answer 2. \n",
    "\n",
    "\n",
    "def flatten_list(lst):\n",
    "   \n",
    "   flattened_list = []\n",
    "    \n",
    "    for item in lst:\n",
    "        if isinstance(item, (list, set, tuple)):\n",
    "            flattened_list.extend(flatten_list(item))\n",
    "        else:\n",
    "            flattened_list.append(item)\n",
    "    return flattened_list\n",
    "\n",
    "\n",
    "\n",
    "def product_of_numbers(lst):\n",
    "   \n",
    "   flattened_lst = flatten_list(lst)\n",
    "   \n",
    "   product = 1\n",
    "    \n",
    "    for item in flattened_lst:\n",
    "        if isinstance(item, (int, float)):\n",
    "            product *= item\n",
    "        elif isinstance(item, dict):\n",
    "            for val in item.values():\n",
    "                if isinstance(val, (int, float)):\n",
    "                    product *= val\n",
    "    return product\n",
    "\n",
    "# Example 1- \n",
    "\n",
    "list1 = [1,2,3,4, [44,55,66, True], False, (34,56,78,89,34), {1,2,3,3,2,1}, {1:34, \"key2\": [55, 67, 78, 89], 4: (45, 22, 61, 34)}, [56, 'data \n",
    "science'], 'Machine Learning']\n",
    "\n",
    "result = product_of_numbers(list1)\n",
    "\n",
    "print(result)  # Output: 7584901425920\n"
   ]
  },
  {
   "cell_type": "markdown",
   "id": "529cd048-d4f3-4ff5-8749-d8ac077eb87e",
   "metadata": {},
   "source": [
    "Q2. Q2. Write a python program for encrypting a message sent to you by your friend. The logic of encryption should be such that, for a the output should be z. For b, the output should be y. For c, the output should\n",
    "be x respectively. Also, the whitespace should be replaced with a dollar sign. Keep the punctuation marks unchanged.\n",
    "Input Sentence: I want to become a Data Scientist.\n",
    "Encrypt the above input sentence using the program you just created.\n",
    "\n",
    "Note: Convert the given input sentence into lowercase before encrypting. The final output should be lowercase."
   ]
  },
  {
   "cell_type": "code",
   "execution_count": 30,
   "id": "8704e5f9-5ea5-444f-9616-8c54d7d3f814",
   "metadata": {},
   "outputs": [],
   "source": [
    "def encrypt_message(message):\n",
    "  \n",
    "    message = message.lower()\n",
    "    \n",
    "    encrypted_message = \" \"\n",
    "    \n",
    "    for char in message:\n",
    "    \n",
    "        if char == \" \":\n",
    "            encrypted_message += \"$\"\n",
    "       \n",
    "        elif char.isalpha():\n",
    "            encrypted_char = chr(ord('a') + (25 - (ord(char) - ord('a'))))\n",
    "            encrypted_message += encrypted_char\n",
    "       \n",
    "        else:\n",
    "            encrypted_message += char\n",
    "    \n",
    "    return encrypted_message\n"
   ]
  },
  {
   "cell_type": "code",
   "execution_count": 32,
   "id": "37f352b3-fc95-427e-9baa-b7dc679010ab",
   "metadata": {},
   "outputs": [],
   "source": [
    "message = \"I want to become a Data Scientist.\""
   ]
  },
  {
   "cell_type": "code",
   "execution_count": 33,
   "id": "a8a055be-9440-4c87-a862-ce95de5508a4",
   "metadata": {},
   "outputs": [],
   "source": [
    "encrypted_message = encrypt_message(message)"
   ]
  },
  {
   "cell_type": "code",
   "execution_count": 34,
   "id": "52d4da03-410b-4655-9b7b-81aaebc4421d",
   "metadata": {},
   "outputs": [
    {
     "data": {
      "text/plain": [
       "' r$dzmg$gl$yvxlnv$z$wzgz$hxrvmgrhg.'"
      ]
     },
     "execution_count": 34,
     "metadata": {},
     "output_type": "execute_result"
    }
   ],
   "source": [
    "encrypted_message"
   ]
  }
 ],
 "metadata": {
  "kernelspec": {
   "display_name": "Python 3 (ipykernel)",
   "language": "python",
   "name": "python3"
  },
  "language_info": {
   "codemirror_mode": {
    "name": "ipython",
    "version": 3
   },
   "file_extension": ".py",
   "mimetype": "text/x-python",
   "name": "python",
   "nbconvert_exporter": "python",
   "pygments_lexer": "ipython3",
   "version": "3.10.8"
  }
 },
 "nbformat": 4,
 "nbformat_minor": 5
}
